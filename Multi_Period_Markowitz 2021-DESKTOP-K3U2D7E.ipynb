{
 "cells": [
  {
   "cell_type": "markdown",
   "metadata": {},
   "source": [
    "# <center> Modelo de Markowitz para Seleção de Portfólio com Rebalanceamento Diário<center>"
   ]
  },
  {
   "cell_type": "code",
   "execution_count": 1,
   "metadata": {},
   "outputs": [],
   "source": [
    "# required libraries\n",
    "import matplotlib.pyplot as plt\n",
    "import numpy as np\n",
    "import pandas as pd\n",
    "from scipy.optimize import Bounds\n",
    "from scipy.optimize import minimize\n",
    "from tqdm import tqdm\n",
    "import yfinance as yf"
   ]
  },
  {
   "cell_type": "code",
   "execution_count": 2,
   "metadata": {},
   "outputs": [],
   "source": [
    "# Global parameters\n",
    "ASSETS = pd.Series(['VALE3', 'ITUB4', 'PETR4', 'BBDC4', 'B3SA3', 'PETR3', 'MGLU3', 'ABEV3', 'WEGE3', 'ITSA4', 'BBAS3', 'PCAR3'])\n",
    "AMOUNT_ASSETS = len(ASSETS) #number of assets to create the portfolio\n",
    "LEN_TRAIN = 60 #number of past days to train the model\n",
    "NUM_FRONT_POINT = 4 #amount of number to construct the Pareto front\n",
    "FRONT_POINTS = np.linspace(0, 1, NUM_FRONT_POINT) #uniform distribution of the weights used in the optimization \n",
    "                                                  #to build the Pareto frontier\n",
    "LEN_SLIDING_WINDOW = 248 #stop criterion\n",
    "INITIAL_WEALTH = 100000 # portfolio initial wealth\n",
    "\n",
    "START_2020 = '2020-10-01' #the model takes 60 days for training\n",
    "                          #the training is repeated daily, it uses the most recent information available through\n",
    "                          #the sliding window\n",
    "END_2020 = '2021-12-30'"
   ]
  },
  {
   "cell_type": "code",
   "execution_count": 3,
   "metadata": {},
   "outputs": [
    {
     "name": "stdout",
     "output_type": "stream",
     "text": [
      "[*********************100%***********************]  1 of 1 completed\n"
     ]
    }
   ],
   "source": [
    "ibovespa = yf.download(tickers=['^BVSP'], start=START_2020, end = END_2020, rounding=True)['Adj Close']\n",
    "df_ret_ibovespa_2020 = ibovespa.pct_change()[1:]"
   ]
  },
  {
   "cell_type": "code",
   "execution_count": 4,
   "metadata": {},
   "outputs": [
    {
     "name": "stdout",
     "output_type": "stream",
     "text": [
      "[*********************100%***********************]  12 of 12 completed\n"
     ]
    }
   ],
   "source": [
    "prices = yf.download(tickers=(ASSETS + '.SA').tolist(), start=START_2020, end= END_2020, rounding=True)['Adj Close']\n",
    "prices.columns = prices.columns.str.rstrip('.SA')  # removes the .SA from the asset's name\n",
    "df_ret_2020 = prices.pct_change()[1:]\n",
    "#df_ret_2020.fillna(method=\"backfill\",inplace = True)"
   ]
  },
  {
   "cell_type": "code",
   "execution_count": 6,
   "metadata": {},
   "outputs": [
    {
     "data": {
      "text/plain": [
       "94603.0"
      ]
     },
     "execution_count": 6,
     "metadata": {},
     "output_type": "execute_result"
    }
   ],
   "source": [
    "ibovespa['2020-09-30']"
   ]
  },
  {
   "cell_type": "markdown",
   "metadata": {},
   "source": [
    "# TO BE DEVELOPED:\n",
    "## Ensure data consistency by comparing ibovespa and  prices DFs\n",
    "The 2020 version of this program works with 2 DFs, price(308,12) and ibovespa(308). We want to keep them this size."
   ]
  },
  {
   "cell_type": "code",
   "execution_count": 14,
   "metadata": {},
   "outputs": [],
   "source": [
    "#\n",
    "#  df = prices.merge(ibovespa, how = 'outer', indicator=True).loc[lambda x : x['_merge']=='left_only']\n",
    "prices_dates = prices.T"
   ]
  },
  {
   "cell_type": "code",
   "execution_count": null,
   "metadata": {},
   "outputs": [],
   "source": [
    "# # Alternative -------------------------------------\n",
    "# # The line code below does the trick for 2 dataframes (for more info visit https://kanoki.org/2019/07/04/pandas-difference-between-two-dataframes/)\n",
    "\n",
    "# #  df = df1.merge(df2, how = 'outer' ,indicator=True).loc[lambda x : x['_merge']=='left_only']\n",
    "\n",
    "# # another post suggests something different ( https://stackoverflow.com/questions/53645882/pandas-merging-101)\n",
    "\n",
    "# (left.merge(right, on='key', how='right', indicator=True)\n",
    "#      .query('_merge == \"right_only\"')\n",
    "#      .drop('_merge', 1))\n"
   ]
  },
  {
   "cell_type": "markdown",
   "metadata": {},
   "source": [
    "# Constraints"
   ]
  },
  {
   "cell_type": "code",
   "execution_count": null,
   "metadata": {},
   "outputs": [],
   "source": [
    "# Definition of the investment bound constraint\n",
    "bounds = Bounds(np.zeros(AMOUNT_ASSETS), np.ones(AMOUNT_ASSETS))"
   ]
  },
  {
   "cell_type": "markdown",
   "metadata": {},
   "source": [
    "- Remember that, in general, we only work with the constraint `$≤$`.\n",
    "- So it is necessary to make an **“adaptation”** in the way of writing the constraints defined by `$≥$`."
   ]
  },
  {
   "cell_type": "code",
   "execution_count": null,
   "metadata": {},
   "outputs": [],
   "source": [
    "# b1    <= A * x   <==>   -b1 >= -A*x        <==>   A*x - b1 >= 0\n",
    "# A * x <= b2      <==>    A*x - b2 <= 0     <==>  -Ax + b2 >= 0\n",
    "A = np.ones(AMOUNT_ASSETS)\n",
    "b = np.array([1])\n",
    "\n",
    "cons = [{\"type\": \"ineq\", \"fun\": lambda x: A @ x - b}, {\"type\": \"ineq\", \"fun\": lambda x: -A @ x + b}]"
   ]
  },
  {
   "cell_type": "code",
   "execution_count": null,
   "metadata": {},
   "outputs": [],
   "source": [
    "# initial condition: the naive portfolio\n",
    "U0 = 1/AMOUNT_ASSETS*np.ones(AMOUNT_ASSETS)"
   ]
  },
  {
   "cell_type": "code",
   "execution_count": null,
   "metadata": {},
   "outputs": [],
   "source": [
    "# Check if any rows are missing between df_ret_2020 and df_ret_ibovespa"
   ]
  },
  {
   "cell_type": "markdown",
   "metadata": {},
   "source": [
    "# Optimization method"
   ]
  },
  {
   "cell_type": "code",
   "execution_count": null,
   "metadata": {},
   "outputs": [],
   "source": [
    "# Defines the objective functions (return and risk)\n",
    "# Takes the weight to be used in the weighted combination using the parameter aux_ponto_front\n",
    "# Returns the optimal portfolio came from the weight optimization considering the weight aux_dot_front\n",
    "def get_optimize(aux_ponto_front, aux_train_return):\n",
    "    \n",
    "    def f(U,front_point = aux_ponto_front,train_return = aux_train_return):\n",
    "        #train_return=returns[0:LEN_TRAIN-1]\n",
    "        mean_return = train_return.mean()\n",
    "        portfolio_return = mean_return.values.dot(U)\n",
    "        portfolio_risk = (U.dot(np.cov(train_return.T))).dot(U)\n",
    "        return front_point*portfolio_risk-(1-front_point)*portfolio_return\n",
    "\n",
    "    Umin = minimize(f, U0, args=(),method='SLSQP',  jac=None, bounds=bounds, constraints=cons, \n",
    "                    tol=None,callback=None,options={'maxiter': 1000, 'ftol': 1e-16, 'iprint': 0,'eps': 1e-8})    \n",
    "    return Umin.x"
   ]
  },
  {
   "cell_type": "code",
   "execution_count": null,
   "metadata": {},
   "outputs": [],
   "source": [
    "# Gets the portfolio return and risk obtained by the optimal portfolio\n",
    "def get_return_risk(portfolio,train_return):\n",
    "    mean_return = train_return.mean()\n",
    "    portfolio_return = mean_return.values.dot(portfolio)\n",
    "    portfolio_risk = (portfolio.dot(np.cov(train_return.T))).dot(portfolio)\n",
    "    return portfolio_return, portfolio_risk"
   ]
  },
  {
   "cell_type": "code",
   "execution_count": null,
   "metadata": {},
   "outputs": [],
   "source": [
    "# Runs the problem\n",
    "#Input data: the DataFrame daily return\n",
    "#Output data: the daily optimal portfolio for the complete period\n",
    "\n",
    "#Proceding: at each time instant k:\n",
    "# Step_1: the model is trained using the last 60 past days.\n",
    "# Step_2: the weighted optimization w*portfolio_risk-(1-w)*portfolio_return is runned using the SLSQP method.\n",
    "    # the parameter w is a weight in [0,1]\n",
    "    # a Pareto front is generated\n",
    "#Step_3: chose a Pareto front point to be applied to the system\n",
    "    # we chose the Pareto front midpoint, which is the investment adviser to a moderate profile investor\n",
    "    # another choice criterion can be setted\n",
    "#Step_4: Updates the system with the newest information from the real world\n",
    "    # the oldest information is discarded\n",
    "#Step_5: if the stop criterion is done\n",
    "            #break\n",
    "        #else\n",
    "            #go to Step_1\n",
    "def run_problem(df_ret):\n",
    "    num_otim = 0\n",
    "    selected_portfolios = pd.DataFrame([], index=np.arange(0, AMOUNT_ASSETS), columns=['Day_' + str(day) for day in range(LEN_SLIDING_WINDOW)])\n",
    "    for k in tqdm(range(LEN_TRAIN, LEN_TRAIN+ LEN_SLIDING_WINDOW)):\n",
    "        df_train = df_ret[k - LEN_TRAIN:k-1]\n",
    "        front_portfolios = []\n",
    "        for front_point in FRONT_POINTS:\n",
    "            portfolio = get_optimize(front_point, df_train)\n",
    "            front_portfolios.append(portfolio) \n",
    "        pos = int(NUM_FRONT_POINT/2) #choose the Pareto front midpoint ----> Moderate profile   \n",
    "        selected_portfolio = front_portfolios[pos]\n",
    "        selected_portfolios['Day_' + str(num_otim)] = pd.DataFrame(np.matrix(selected_portfolio)).T\n",
    "        num_otim +=1\n",
    "        print(k)\n",
    "    selected_portfolios.index = df_ret.columns\n",
    "    selected_portfolios.columns = df_ret[LEN_TRAIN-1:LEN_TRAIN+LEN_SLIDING_WINDOW-1].index    \n",
    "    return selected_portfolios"
   ]
  },
  {
   "cell_type": "code",
   "execution_count": null,
   "metadata": {},
   "outputs": [],
   "source": [
    "# Uses the daily optimal portfolio to define the portfolio daily rentability \n",
    "def get_rentability(df_ret, selected_portfolios):\n",
    "    dates = selected_portfolios.columns\n",
    "    cont = 0\n",
    "    rentability = pd.DataFrame([], index = dates, columns = ['Rentability'])\n",
    "    for k in range(LEN_TRAIN, LEN_TRAIN+LEN_SLIDING_WINDOW):\n",
    "        next_day_return = df_ret[k-1:k]\n",
    "        rentability['Rentability'][cont] = next_day_return.values[0].dot(selected_portfolios[dates[cont]].values)\n",
    "        cont +=1\n",
    "    return rentability "
   ]
  },
  {
   "cell_type": "code",
   "execution_count": null,
   "metadata": {},
   "outputs": [],
   "source": [
    "# Get's the cumulative wealth\n",
    "def get_cumulative_wealth(rentability):\n",
    "    cum_rent = pd.DataFrame([], index = rentability.index, columns = ['Cumulative Wealth'])\n",
    "    cum_rent['Cumulative Wealth'] = INITIAL_WEALTH*np.cumprod(1 + rentability['Rentability'].values) - 1\n",
    "    return cum_rent"
   ]
  },
  {
   "cell_type": "code",
   "execution_count": null,
   "metadata": {},
   "outputs": [],
   "source": [
    "#Runs the problem for 2020\n",
    "selected_portfolios_2020 = run_problem(df_ret_2020)\n",
    "rentability_2020 = get_rentability(df_ret_2020, selected_portfolios_2020)\n",
    "aux_cumulative_wealth_2020 = get_cumulative_wealth(rentability_2020)\n",
    "first_day_2020 = pd.DataFrame([INITIAL_WEALTH], index =['2019-12-30 00:00:00'], columns = ['Cumulative Wealth'])\n",
    "cumulative_wealth_2020 = first_day_2020.append(aux_cumulative_wealth_2020)"
   ]
  },
  {
   "cell_type": "code",
   "execution_count": null,
   "metadata": {},
   "outputs": [],
   "source": [
    "# Get's the Ibovespa cumulative wealth for 2020\n",
    "cumulative_wealth_2020.index = pd.to_datetime(cumulative_wealth_2020.index)\n",
    "aux_cumulative_ibovespa_2020 = np.append(INITIAL_WEALTH,INITIAL_WEALTH*np.cumprod(1 + df_ret_ibovespa_2020[LEN_TRAIN-1:].values) - 1)\n",
    "cumulative_ibovespa_2020 = pd.DataFrame([], index = df_ret_ibovespa_2020.index[LEN_TRAIN-2:], columns = ['Cumulative Wealth'])\n",
    "cumulative_ibovespa_2020['Cumulative Wealth'] = aux_cumulative_ibovespa_2020"
   ]
  },
  {
   "cell_type": "code",
   "execution_count": null,
   "metadata": {},
   "outputs": [],
   "source": [
    "plt.figure(figsize = (15,7))\n",
    "plt.plot(cumulative_wealth_2020['Cumulative Wealth'],label=\"Markowitz\",color = 'darkslategray',linestyle = (0, (5, 1)), linewidth = 4)\n",
    "plt.plot(cumulative_ibovespa_2020['Cumulative Wealth'],label=\"Ibovespa\",color = 'darkslategray',linestyle = ':', linewidth = 4)\n",
    "legend = plt.legend(loc='lower right', shadow=False, fontsize= 18,  ncol = 2)\n",
    "plt.xlabel('Sliding windows days', fontsize=20)\n",
    "plt.ylabel('Wealth', fontsize=20)\n",
    "plt.rc('xtick', labelsize=20) \n",
    "plt.rc('ytick', labelsize=20) \n",
    "plt.show()"
   ]
  },
  {
   "cell_type": "code",
   "execution_count": null,
   "metadata": {},
   "outputs": [],
   "source": []
  }
 ],
 "metadata": {
  "kernelspec": {
   "display_name": "Python 3",
   "language": "python",
   "name": "python3"
  },
  "language_info": {
   "codemirror_mode": {
    "name": "ipython",
    "version": 3
   },
   "file_extension": ".py",
   "mimetype": "text/x-python",
   "name": "python",
   "nbconvert_exporter": "python",
   "pygments_lexer": "ipython3",
   "version": "3.10.0"
  }
 },
 "nbformat": 4,
 "nbformat_minor": 2
}
